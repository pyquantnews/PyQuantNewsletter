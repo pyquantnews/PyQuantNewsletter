{
 "cells": [
  {
   "cell_type": "markdown",
   "id": "9fb0f484",
   "metadata": {},
   "source": [
    "<div style=\"background-color:#000;\"><img src=\"pqn.png\"></img></div>"
   ]
  },
  {
   "cell_type": "markdown",
   "id": "c5fb6006",
   "metadata": {},
   "source": [
    "## Imports and setup"
   ]
  },
  {
   "cell_type": "markdown",
   "id": "5b76c8b1",
   "metadata": {},
   "source": [
    "We use matplotlib for plotting charts, numpy for numeric operations, statsmodels for statistical analysis and regression, yfinance for downloading historic price data, and scikit-learn for finding patterns in the data with principal component analysis (PCA)."
   ]
  },
  {
   "cell_type": "code",
   "execution_count": null,
   "id": "56c4601a",
   "metadata": {},
   "outputs": [],
   "source": [
    "import matplotlib.pyplot as plt\n",
    "import numpy as np\n",
    "import statsmodels.api as sm\n",
    "import yfinance as yf\n",
    "from sklearn.decomposition import PCA\n",
    "from statsmodels import regression"
   ]
  },
  {
   "cell_type": "markdown",
   "id": "6a477d80",
   "metadata": {},
   "source": [
    "This block selects a group of sector and asset tickers, pulls one year of daily historical closing prices using yfinance, and then calculates daily returns for this group."
   ]
  },
  {
   "cell_type": "code",
   "execution_count": null,
   "id": "e2000042",
   "metadata": {},
   "outputs": [],
   "source": [
    "tickers = [\"SPY\", \"XLE\", \"XLY\", \"XLP\", \"XLI\", \"XLU\", \"XLK\", \"XBI\", \"XLB\", \"XLF\", \"GLD\"]\n",
    "price_data = yf.download(tickers, period=\"1y\").Close\n",
    "returns = price_data.pct_change().dropna()\n",
    "returns = returns.fillna(0)"
   ]
  },
  {
   "cell_type": "markdown",
   "id": "03badbc6",
   "metadata": {
    "lines_to_next_cell": 2
   },
   "source": [
    "We set up a list of ticker symbols, fetch one year of their closing price history, and turn that price data into a table of daily returns for each symbol. We clean the results by dropping missing values and filling any leftovers with zeros, making analysis easier."
   ]
  },
  {
   "cell_type": "markdown",
   "id": "73feb9c8",
   "metadata": {},
   "source": [
    "## Analyze and visualize components"
   ]
  },
  {
   "cell_type": "markdown",
   "id": "5ee717f8",
   "metadata": {},
   "source": [
    "This block fits principal component analysis (PCA) on the returns to summarize most of the moves in these assets, then stores how many components are needed to capture 90% of the action. It also calculates how much each component tells us about the overall movement."
   ]
  },
  {
   "cell_type": "code",
   "execution_count": null,
   "id": "025c988f",
   "metadata": {},
   "outputs": [],
   "source": [
    "pca = PCA(n_components=0.9, svd_solver=\"full\")\n",
    "principal_components = pca.fit(returns)"
   ]
  },
  {
   "cell_type": "code",
   "execution_count": null,
   "id": "4a7700c2",
   "metadata": {},
   "outputs": [],
   "source": [
    "n_components_90 = pca.n_components_\n",
    "components_90 = pca.components_\n",
    "explained_variance = pca.explained_variance_ratio_"
   ]
  },
  {
   "cell_type": "markdown",
   "id": "0519d5d1",
   "metadata": {},
   "source": [
    "Here we use PCA to break down the returns into key pieces that explain most of the changes. By setting it to cover 90% of the explained variance, we're making sure we only keep the most useful directions in the data. We save the number of important components, the directions they point, and how much of the total movement they each explain."
   ]
  },
  {
   "cell_type": "markdown",
   "id": "2ab8b006",
   "metadata": {},
   "source": [
    "This block creates a bar chart to help visualize how much of the volatility or movement in these returns each component explains."
   ]
  },
  {
   "cell_type": "code",
   "execution_count": null,
   "id": "720c1e9d",
   "metadata": {},
   "outputs": [],
   "source": [
    "plt.figure(figsize=(10, 6))\n",
    "plt.bar(range(1, n_components_90 + 1), explained_variance, alpha=0.7)\n",
    "plt.xlabel(\"Principal Component\")\n",
    "plt.ylabel(\"Explained Variance Ratio\")\n",
    "plt.title(f\"PCA Number of Components by MLE: {n_components_90}\")\n",
    "plt.tight_layout()\n",
    "plt.show()"
   ]
  },
  {
   "cell_type": "markdown",
   "id": "79650e98",
   "metadata": {
    "lines_to_next_cell": 2
   },
   "source": [
    "We build a visual that clearly shows—for each component found by the PCA—how much of the story it tells us about overall returns. The bar chart helps us spot which components matter and how many we need to keep to describe most of our data's behavior."
   ]
  },
  {
   "cell_type": "markdown",
   "id": "5a1a38ea",
   "metadata": {},
   "source": [
    "## Visualize relationships between two assets"
   ]
  },
  {
   "cell_type": "markdown",
   "id": "11c3b1eb",
   "metadata": {},
   "source": [
    "This block standardizes the returns, picks the first two assets in our list, and performs PCA to look for the main lines of movement between these two. It then plots them together with the directions of the two most important components."
   ]
  },
  {
   "cell_type": "code",
   "execution_count": null,
   "id": "a527cb48",
   "metadata": {},
   "outputs": [],
   "source": [
    "r = returns / returns.std()\n",
    "r1_s, r2_s = r.iloc[:, 0], r.iloc[:, 1]"
   ]
  },
  {
   "cell_type": "code",
   "execution_count": null,
   "id": "4c6f855c",
   "metadata": {},
   "outputs": [],
   "source": [
    "pca.fit(np.vstack((r1_s, r2_s)).T)\n",
    "components_s = pca.components_\n",
    "evr_s = pca.explained_variance_ratio_"
   ]
  },
  {
   "cell_type": "code",
   "execution_count": null,
   "id": "56f28cd3",
   "metadata": {},
   "outputs": [],
   "source": [
    "plt.figure(figsize=(8, 6))\n",
    "plt.scatter(r1_s, r2_s, alpha=0.5, s=10)"
   ]
  },
  {
   "cell_type": "code",
   "execution_count": null,
   "id": "b4057c24",
   "metadata": {},
   "outputs": [],
   "source": [
    "xs = np.linspace(r1_s.min(), r1_s.max(), 100)\n",
    "plt.plot(xs * components_90[0, 0] * evr_s[0], xs * components_90[0, 1] * evr_s[0], \"r\")\n",
    "plt.plot(xs * components_90[1, 0] * evr_s[1], xs * components_90[1, 1] * evr_s[1], \"g\")"
   ]
  },
  {
   "cell_type": "markdown",
   "id": "fbbbc4dc",
   "metadata": {
    "lines_to_next_cell": 2
   },
   "source": [
    "We arrange the returns to all use the same scale, pick out just the first two, and recompute PCA for those. The scatter plot shows how these two returns move together. The overlaid lines make it easy to see which direction in the paired data is the most dominant according to PCA, letting us spot which relationship matters most."
   ]
  },
  {
   "cell_type": "markdown",
   "id": "31d01a8e",
   "metadata": {},
   "source": [
    "## Model a single asset using components"
   ]
  },
  {
   "cell_type": "markdown",
   "id": "77dcb86f",
   "metadata": {},
   "source": [
    "This block creates a set of series representing our principal components, then uses multiple linear regression to see how well these explain the movement of the first asset in our list. The resulting numbers show how much each component contributes."
   ]
  },
  {
   "cell_type": "code",
   "execution_count": null,
   "id": "d8d97999",
   "metadata": {},
   "outputs": [],
   "source": [
    "factor_returns = np.array(\n",
    "    [(components_90[i] * returns).T.sum() for i in range(n_components_90)]\n",
    ")"
   ]
  },
  {
   "cell_type": "code",
   "execution_count": null,
   "id": "79febb1d",
   "metadata": {},
   "outputs": [],
   "source": [
    "mlr = regression.linear_model.OLS(\n",
    "    returns.T.iloc[0], sm.add_constant(factor_returns.T)\n",
    ").fit()\n",
    "print(f\"Regression coefficients for {tickers[0]}:\\n{mlr.params.round(4)}\")"
   ]
  },
  {
   "cell_type": "markdown",
   "id": "320f0f66",
   "metadata": {
    "lines_to_next_cell": 2
   },
   "source": [
    "We calculate a value for each principal component, measuring how it relates to the daily returns across assets. Then, we use these values to explain the return movements of a single asset using a statistical model. The printed results show us exactly how much each component helps explain the action in that asset."
   ]
  },
  {
   "cell_type": "markdown",
   "id": "dca728e8",
   "metadata": {},
   "source": [
    "This line simply displays how many components we kept after PCA, confirming how many were needed to capture 90% of the total movement."
   ]
  },
  {
   "cell_type": "code",
   "execution_count": null,
   "id": "9d211f0c",
   "metadata": {},
   "outputs": [],
   "source": [
    "n_components_90"
   ]
  },
  {
   "cell_type": "markdown",
   "id": "351e746f",
   "metadata": {},
   "source": [
    "By printing this, we see the precise number of influential pieces we used to summarize almost all the risk and return patterns in our data. This makes it clear how complex—or simple—our group of assets really is."
   ]
  },
  {
   "cell_type": "markdown",
   "id": "a6f05afe",
   "metadata": {},
   "source": [
    "<a href=\"https://pyquantnews.com/\">PyQuant News</a> is where finance practitioners level up with Python for quant finance, algorithmic trading, and market data analysis. Looking to get started? Check out the fastest growing, top-selling course to <a href=\"https://gettingstartedwithpythonforquantfinance.com/\">get started with Python for quant finance</a>. For educational purposes. Not investment advice. Use at your own risk."
   ]
  }
 ],
 "metadata": {
  "jupytext": {
   "cell_metadata_filter": "-all",
   "main_language": "python",
   "notebook_metadata_filter": "-all"
  }
 },
 "nbformat": 4,
 "nbformat_minor": 5
}
