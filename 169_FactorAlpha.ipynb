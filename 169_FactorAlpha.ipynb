{
 "cells": [
  {
   "cell_type": "markdown",
   "id": "2cd5d684",
   "metadata": {},
   "source": [
    "<div style=\"background-color:#000;\"><img src=\"pqn.png\"></img></div>"
   ]
  },
  {
   "cell_type": "markdown",
   "id": "61121354",
   "metadata": {},
   "source": [
    "We use numpy for math operations, pandas for organizing data, yfinance for pulling price data, seaborn and matplotlib for charting, scipy.stats for statistics, and warnings to keep output clean."
   ]
  },
  {
   "cell_type": "markdown",
   "id": "d193b161",
   "metadata": {},
   "source": [
    "## Imports and setup"
   ]
  },
  {
   "cell_type": "markdown",
   "id": "f7a666de",
   "metadata": {},
   "source": [
    "This block imports all the libraries needed for data handling, analysis, and visualization, and suppresses warnings to keep output readable."
   ]
  },
  {
   "cell_type": "code",
   "execution_count": null,
   "id": "d3146a6c",
   "metadata": {},
   "outputs": [],
   "source": [
    "import numpy as np\n",
    "import pandas as pd\n",
    "import yfinance as yf\n",
    "import seaborn as sns\n",
    "import matplotlib.pyplot as plt\n",
    "from scipy.stats import spearmanr\n",
    "import warnings\n",
    "warnings.filterwarnings(\"ignore\")"
   ]
  },
  {
   "cell_type": "markdown",
   "id": "5f9bf6e9",
   "metadata": {
    "lines_to_next_cell": 2
   },
   "source": [
    "Here, we set up all our tools. Numpy and pandas handle data, yfinance brings in market data, seaborn and matplotlib handle plotting, and scipy.stats helps with statistics. We keep output uncluttered by hiding warnings so we can focus on results."
   ]
  },
  {
   "cell_type": "markdown",
   "id": "9991a68e",
   "metadata": {},
   "source": [
    "## Download and prepare market data"
   ]
  },
  {
   "cell_type": "markdown",
   "id": "e283913e",
   "metadata": {},
   "source": [
    "This block pulls daily data for a list of large technology companies from Yahoo Finance, then restructures the data so it's easy to analyze by date and ticker symbol."
   ]
  },
  {
   "cell_type": "code",
   "execution_count": null,
   "id": "c4b400a3",
   "metadata": {},
   "outputs": [],
   "source": [
    "symbols = [\"AAPL\", \"MSFT\", \"GOOGL\", \"META\", \"NVDA\", \"AMZN\", \"TSLA\"]\n",
    "prices = (\n",
    "    yf.download(\n",
    "        symbols,\n",
    "        start=\"2020-01-01\",\n",
    "        end=\"2024-12-31\",\n",
    "        auto_adjust=False,\n",
    "        progress=False,\n",
    "    )\n",
    "    .stack(level=1)\n",
    "    .reset_index()\n",
    "    .set_index(\"Date\")\n",
    ")\n",
    "prices.columns = [col.lower() for col in prices.columns]"
   ]
  },
  {
   "cell_type": "code",
   "execution_count": null,
   "id": "30bff76b",
   "metadata": {},
   "outputs": [],
   "source": [
    "grouped_prices = (\n",
    "    prices\n",
    "    .set_index(\"ticker\", append=True)\n",
    "    .reorder_levels([\"ticker\", \"Date\"])\n",
    "    .sort_index(level=[0, 1])\n",
    ")"
   ]
  },
  {
   "cell_type": "markdown",
   "id": "c9875e41",
   "metadata": {
    "lines_to_next_cell": 2
   },
   "source": [
    "We're collecting daily price data for key symbols like AAPL, MSFT, and TSLA, covering nearly five years. The data is organized in a way that lets us easily group by ticker and date, with all column names set to lowercase for consistency. We make sure the structure lines up with how we'll analyze trends and returns by keeping both the company ticker and the trading date."
   ]
  },
  {
   "cell_type": "markdown",
   "id": "7100b3ff",
   "metadata": {},
   "source": [
    "## Calculate mean reversion and returns"
   ]
  },
  {
   "cell_type": "markdown",
   "id": "16d1d883",
   "metadata": {},
   "source": [
    "This block calculates how far each stock's price is from its average over a rolling one-month window and measures returns over several holding periods for later analysis."
   ]
  },
  {
   "cell_type": "code",
   "execution_count": null,
   "id": "2f1f42f4",
   "metadata": {},
   "outputs": [],
   "source": [
    "window = 22\n",
    "mean_reversion = (\n",
    "    lambda x: (x - x.rolling(window, min_periods=window).mean())\n",
    "    / x.rolling(window, min_periods=window).std()\n",
    ")\n",
    "grouped_prices[\"factor_score\"] = grouped_prices.groupby(\"ticker\")[\"close\"].transform(mean_reversion)"
   ]
  },
  {
   "cell_type": "code",
   "execution_count": null,
   "id": "0fad93d7",
   "metadata": {},
   "outputs": [],
   "source": [
    "lags = [1, 5, 10, 22, 42, 63, 126]\n",
    "for lag in lags:\n",
    "    grouped_prices[f\"return_{lag}d\"] = (\n",
    "        grouped_prices\n",
    "        .groupby(level=\"ticker\")\n",
    "        .close\n",
    "        .pct_change(lag)\n",
    "    )"
   ]
  },
  {
   "cell_type": "code",
   "execution_count": null,
   "id": "5a9035ad",
   "metadata": {},
   "outputs": [],
   "source": [
    "for t in lags:\n",
    "    grouped_prices[f\"target_{t}d\"] = (\n",
    "        grouped_prices\n",
    "        .groupby(level=\"ticker\")[f\"return_{t}d\"]\n",
    "        .shift(-t)\n",
    "    )"
   ]
  },
  {
   "cell_type": "code",
   "execution_count": null,
   "id": "821195f9",
   "metadata": {},
   "outputs": [],
   "source": [
    "grouped_prices.dropna(inplace=True)"
   ]
  },
  {
   "cell_type": "markdown",
   "id": "06f25b52",
   "metadata": {
    "lines_to_next_cell": 2
   },
   "source": [
    "We use a rolling 22-day window, roughly one month, to see how much a stock's price differs from its own recent average—this helps us understand how \"unusual\" a price move is. We also calculate returns for each company over periods from 1 to 126 days to explore short- and long-term movements. By creating shifted versions of these returns, we set up \"targets\" representing forward returns. Last, we remove all rows with missing values to keep our analysis clean."
   ]
  },
  {
   "cell_type": "markdown",
   "id": "660483b1",
   "metadata": {},
   "source": [
    "## Visualize and evaluate relationships"
   ]
  },
  {
   "cell_type": "markdown",
   "id": "d46b1451",
   "metadata": {},
   "source": [
    "This block visualizes the link between recent price deviations and future returns for Tesla, then measures how well our signal predicts returns for each symbol using a statistical test."
   ]
  },
  {
   "cell_type": "code",
   "execution_count": null,
   "id": "e440db58",
   "metadata": {},
   "outputs": [],
   "source": [
    "target = \"target_22d\"\n",
    "metric = \"factor_score\"\n",
    "j = sns.jointplot(x=metric, y=target, data=grouped_prices.loc[\"TSLA\"])\n",
    "plt.tight_layout()"
   ]
  },
  {
   "cell_type": "code",
   "execution_count": null,
   "id": "7001d5c2",
   "metadata": {},
   "outputs": [],
   "source": [
    "results = (\n",
    "    grouped_prices\n",
    "    .groupby(\"ticker\")\n",
    "    .apply(lambda x: spearmanr(x[metric], x[target]))\n",
    "    .apply(pd.Series)\n",
    "    .round(4)\n",
    ")\n",
    "results.columns = [\"statistic\", \"p_value\"]\n",
    "results.sort_values(\"statistic\", ascending=False)"
   ]
  },
  {
   "cell_type": "markdown",
   "id": "ebd18352",
   "metadata": {},
   "source": [
    "We create a scatter plot for Tesla, showing how much its price moved away from average versus what happened to its returns in the next month. After visualizing, we run a statistical test for each company to measure the strength of the connection between our price deviation measure and future returns. The results table ranks each symbol by how predictive that relationship is. This gives us a clear view of which stocks' price moves are most likely to revert and which signals might be meaningful."
   ]
  },
  {
   "cell_type": "markdown",
   "id": "bc0918aa",
   "metadata": {},
   "source": [
    "<a href=\"https://pyquantnews.com/\">PyQuant News</a> is where finance practitioners level up with Python for quant finance, algorithmic trading, and market data analysis. Looking to get started? Check out the fastest growing, top-selling course to <a href=\"https://gettingstartedwithpythonforquantfinance.com/\">get started with Python for quant finance</a>. For educational purposes. Not investment advice. Use at your own risk."
   ]
  }
 ],
 "metadata": {
  "jupytext": {
   "cell_metadata_filter": "-all",
   "main_language": "python",
   "notebook_metadata_filter": "-all"
  }
 },
 "nbformat": 4,
 "nbformat_minor": 5
}
