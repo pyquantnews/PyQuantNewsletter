{
 "cells": [
  {
   "cell_type": "markdown",
   "id": "7a7a48e9",
   "metadata": {},
   "source": [
    "<div style=\"background-color:#000;\"><img src=\"pqn.png\"></img></div>"
   ]
  },
  {
   "cell_type": "markdown",
   "id": "0b74cf17",
   "metadata": {},
   "source": [
    "## Imports and setup"
   ]
  },
  {
   "cell_type": "markdown",
   "id": "a57542c8",
   "metadata": {},
   "source": [
    "We use matplotlib and seaborn for charting, numpy for math, pandas for working with data tables, yfinance for downloading stock prices, and statsmodels for testing relationships between price series."
   ]
  },
  {
   "cell_type": "code",
   "execution_count": null,
   "id": "495bbe95",
   "metadata": {},
   "outputs": [],
   "source": [
    "import matplotlib.pyplot as plt\n",
    "import numpy as np\n",
    "import pandas as pd\n",
    "import seaborn as sns\n",
    "import yfinance as yf\n",
    "from statsmodels.tsa.stattools import coint"
   ]
  },
  {
   "cell_type": "markdown",
   "id": "b8687624",
   "metadata": {},
   "source": [
    "## Download and clean stock data"
   ]
  },
  {
   "cell_type": "markdown",
   "id": "174293d6",
   "metadata": {},
   "source": [
    "This block downloads daily closing prices for a group of clean energy stocks and ETFs from yfinance."
   ]
  },
  {
   "cell_type": "code",
   "execution_count": null,
   "id": "927e570e",
   "metadata": {},
   "outputs": [],
   "source": [
    "tickers = [\n",
    "    \"NEE\",\n",
    "    \"FSLR\",\n",
    "    \"ENPH\",\n",
    "    \"PLUG\",\n",
    "    \"BEP\",\n",
    "    \"AQN\",\n",
    "    \"PBW\",\n",
    "    \"FAN\",\n",
    "    \"ICLN\",\n",
    "]\n",
    "start_date = \"2014-01-01\"\n",
    "end_date = \"2015-01-01\"\n",
    "df = yf.download(tickers, start=start_date, end=end_date, auto_adjust=False).Close\n",
    "df = df.dropna()"
   ]
  },
  {
   "cell_type": "markdown",
   "id": "933f15da",
   "metadata": {},
   "source": [
    "We’re collecting a full year of prices for nine tickers focused on renewable energy topics, then making sure there’s no missing data for any of them. This gives us a clean set of price histories lined up by date—one column per ticker—ready for analysis."
   ]
  },
  {
   "cell_type": "markdown",
   "id": "e1120b68",
   "metadata": {},
   "source": [
    "## Test for cointegration between stock pairs"
   ]
  },
  {
   "cell_type": "markdown",
   "id": "dedc27c0",
   "metadata": {},
   "source": [
    "This block tests for cointegration—whether two price series have a statistically meaningful long-term relationship—between each possible pair of tickers in our set."
   ]
  },
  {
   "cell_type": "code",
   "execution_count": null,
   "id": "2418a9f0",
   "metadata": {},
   "outputs": [],
   "source": [
    "n = len(tickers)\n",
    "score_matrix = np.zeros((n, n))\n",
    "pvalue_matrix = np.ones((n, n))\n",
    "pairs = []\n",
    "for i in range(n):\n",
    "    for j in range(i + 1, n):\n",
    "        score, pval, _ = coint(df.iloc[:, i], df.iloc[:, j])\n",
    "        score_matrix[i, j] = score\n",
    "        pvalue_matrix[i, j] = pval\n",
    "        if pval < 0.05:\n",
    "            print(f\"{tickers[i]} x {tickers[j]}, p={pvalue_matrix[i, j]}\")\n",
    "            pairs.append((tickers[i], tickers[j]))"
   ]
  },
  {
   "cell_type": "markdown",
   "id": "0ec113b1",
   "metadata": {},
   "source": [
    "We use the cointegration test from statsmodels for every unique pair of tickers. For each pair, we save both the test’s score and its p-value, recording the result in two matrices. Whenever the relationship looks strong enough to be statistically significant (p-value below 0.05), we print the ticker names and p-value, and add the pair to a list. This helps us spot which stock pairs act in sync over time."
   ]
  },
  {
   "cell_type": "markdown",
   "id": "f8d524a4",
   "metadata": {},
   "source": [
    "This block finds the pair with the strongest relationship (the lowest p-value), then calculates the difference between their price series and standardizes it using a rolling z-score for the past 21 days."
   ]
  },
  {
   "cell_type": "code",
   "execution_count": null,
   "id": "e220faec",
   "metadata": {},
   "outputs": [],
   "source": [
    "mask = np.triu(np.ones_like(pvalue_matrix, dtype=bool), k=1)\n",
    "upper_vals = pvalue_matrix[mask]\n",
    "min_idx_flat = np.argmin(upper_vals)\n",
    "min_p = upper_vals[min_idx_flat]\n",
    "idx_pairs = np.column_stack(np.where(mask))\n",
    "i, j = idx_pairs[min_idx_flat]"
   ]
  },
  {
   "cell_type": "code",
   "execution_count": null,
   "id": "54f7b26b",
   "metadata": {},
   "outputs": [],
   "source": [
    "S1, S2 = df.iloc[:, i], df.iloc[:, j]"
   ]
  },
  {
   "cell_type": "code",
   "execution_count": null,
   "id": "c94820c8",
   "metadata": {},
   "outputs": [],
   "source": [
    "score, pvalue, _ = coint(S1, S2)\n",
    "print(f\"tickers with lowest p-value: {tickers[i]} x {tickers[j]}, p={pvalue}\")\n",
    "spread = S1 - S2\n",
    "zscore = (spread - spread.rolling(21, min_periods=21).mean()) / spread.rolling(21, min_periods=21).std()"
   ]
  },
  {
   "cell_type": "markdown",
   "id": "2be1e373",
   "metadata": {},
   "source": [
    "We examine the matrix of p-values and pull out the pair with the lowest value, signaling the tightest statistical connection over our sample. We then create a daily time series showing the price gap between those two stocks, and calculate how “extreme” it is with a rolling z-score. Standardizing the gap helps us identify when the difference is unusually high or low, which can be a setup for certain trading strategies."
   ]
  },
  {
   "cell_type": "markdown",
   "id": "829f19c7",
   "metadata": {},
   "source": [
    "## Visualize cointegration results"
   ]
  },
  {
   "cell_type": "markdown",
   "id": "6fd643ee",
   "metadata": {},
   "source": [
    "This block creates a heatmap so we can clearly see which pairs of tickers have close statistical relationships, and which do not."
   ]
  },
  {
   "cell_type": "code",
   "execution_count": null,
   "id": "00c103f8",
   "metadata": {},
   "outputs": [],
   "source": [
    "mask = np.tril(np.ones_like(pvalue_matrix, dtype=bool)) | (pvalue_matrix >= 0.95)\n",
    "plt.figure(figsize=(8, 6))\n",
    "sns.heatmap(\n",
    "    pvalue_matrix,\n",
    "    mask=mask,\n",
    "    xticklabels=tickers,\n",
    "    yticklabels=tickers,\n",
    "    cmap=\"RdYlGn_r\",\n",
    "    annot=True,\n",
    "    fmt=\".2f\",\n",
    "    cbar=True,\n",
    "    vmin=0,\n",
    "    vmax=1,\n",
    ")\n",
    "plt.title(\"Cointegration Test p-value Matrix\")\n",
    "plt.show()"
   ]
  },
  {
   "cell_type": "markdown",
   "id": "4cd5a713",
   "metadata": {},
   "source": [
    "We use seaborn to chart the p-values for all pairs, hiding entries that aren’t meaningful (like the lower half and those above 0.95). Each square shows the exact value, so it’s easy to spot which tickers move alike. The color scale helps us focus on the most promising relationships for strategies or further study."
   ]
  },
  {
   "cell_type": "markdown",
   "id": "ac973cb4",
   "metadata": {},
   "source": [
    "This block displays the spread and z-score for the pair of tickers with the tightest relationship, highlighting typical and outlying values."
   ]
  },
  {
   "cell_type": "code",
   "execution_count": null,
   "id": "183cdfb6",
   "metadata": {},
   "outputs": [],
   "source": [
    "fig, axes = plt.subplots(2, 1, figsize=(14, 8), sharex=True)\n",
    "axes[0].plot(spread.index, spread, label=\"Spread\")\n",
    "axes[0].axhline(spread.mean(), color=\"black\", linestyle=\"--\", lw=1)\n",
    "axes[0].axhline(spread.mean() + spread.std(), color=\"red\", linestyle=\"--\", lw=1)\n",
    "axes[0].axhline(spread.mean() - spread.std(), color=\"green\", linestyle=\"--\", lw=1)\n",
    "axes[0].set_ylabel(\"Spread\")\n",
    "axes[0].legend()\n",
    "axes[1].plot(zscore.index, zscore, label=\"Z-score\")\n",
    "axes[1].axhline(0, color=\"black\", linestyle=\"--\", lw=1)\n",
    "axes[1].axhline(1, color=\"red\", linestyle=\"--\", lw=1)\n",
    "axes[1].axhline(-1, color=\"green\", linestyle=\"--\", lw=1)\n",
    "axes[1].set_ylabel(\"Z-score\")\n",
    "axes[1].legend()\n",
    "plt.xlabel(\"Date\")\n",
    "plt.suptitle(\"Spread and Rolling Z-score between ABGB and FSLR\")\n",
    "plt.tight_layout()\n",
    "plt.show()"
   ]
  },
  {
   "cell_type": "markdown",
   "id": "6c2c8c08",
   "metadata": {},
   "source": [
    "We create two aligned charts: the top shows the raw price gap between the best-matched stocks, with lines marking average and typical extreme values. The bottom chart tracks how unusual the gap is each day, using the rolling z-score. This makes it straightforward to spot when the difference stretches far from normal, which could be a signal for trade ideas or risk alerts. Both charts make these hidden relationships easy to see."
   ]
  },
  {
   "cell_type": "markdown",
   "id": "d23cc679",
   "metadata": {},
   "source": [
    "<a href=\"https://pyquantnews.com/\">PyQuant News</a> is where finance practitioners level up with Python for quant finance, algorithmic trading, and market data analysis. Looking to get started? Check out the fastest growing, top-selling course to <a href=\"https://gettingstartedwithpythonforquantfinance.com/\">get started with Python for quant finance</a>. For educational purposes. Not investment advice. Use at your own risk."
   ]
  }
 ],
 "metadata": {
  "jupytext": {
   "cell_metadata_filter": "-all",
   "main_language": "python",
   "notebook_metadata_filter": "-all"
  }
 },
 "nbformat": 4,
 "nbformat_minor": 5
}
