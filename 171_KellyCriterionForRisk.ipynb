{
 "cells": [
  {
   "cell_type": "markdown",
   "id": "30b0d534",
   "metadata": {},
   "source": [
    "<div style=\"background-color:#000;\"><img src=\"pqn.png\"></img></div>"
   ]
  },
  {
   "cell_type": "markdown",
   "id": "257b1a8a",
   "metadata": {},
   "source": [
    "We use math for mathematical operations, cvxopt for quadratic programming optimization, matplotlib to plot results, numpy for array calculations, and the cvxopt submodules blas and solvers to handle fast linear algebra and portfolio optimization."
   ]
  },
  {
   "cell_type": "markdown",
   "id": "60b02b3c",
   "metadata": {},
   "source": [
    "## Imports and setup"
   ]
  },
  {
   "cell_type": "markdown",
   "id": "91ae5984",
   "metadata": {},
   "source": [
    "This block loads all required Python libraries, configures reproducibility, and sets problem size for the simulation. It also turns off cvxopt's progress output."
   ]
  },
  {
   "cell_type": "code",
   "execution_count": null,
   "id": "8e39047d",
   "metadata": {},
   "outputs": [],
   "source": [
    "import math\n",
    "import cvxopt as opt\n",
    "import matplotlib.pyplot as plt\n",
    "import numpy as np\n",
    "from cvxopt import blas, solvers"
   ]
  },
  {
   "cell_type": "code",
   "execution_count": null,
   "id": "6cd7542d",
   "metadata": {
    "lines_to_next_cell": 1
   },
   "outputs": [],
   "source": [
    "np.random.seed(89)\n",
    "solvers.options[\"show_progress\"] = False\n",
    "n = 4\n",
    "nobs = 1000"
   ]
  },
  {
   "cell_type": "markdown",
   "id": "1a4d1d5b",
   "metadata": {},
   "source": [
    "We've imported several key libraries to handle everything from mathematical functions to advanced portfolio optimization. Setting the random seed makes our results repeatable every time we run the script. Disabling the progress output from cvxopt keeps our notebook clean. The variables define the number of assets and number of simulated returns we'll use in the optimization later."
   ]
  },
  {
   "cell_type": "markdown",
   "id": "bda620bb",
   "metadata": {},
   "source": [
    "## Define helper functions and simulations"
   ]
  },
  {
   "cell_type": "markdown",
   "id": "c6061e78",
   "metadata": {},
   "source": [
    "This block defines helper functions to generate random portfolio weights, simulate returns, and build random portfolios. It also includes a function that finds risk and return for Kelly-optimal portfolios at different leverage levels."
   ]
  },
  {
   "cell_type": "code",
   "execution_count": null,
   "id": "9ef7e360",
   "metadata": {},
   "outputs": [],
   "source": [
    "def rand_weights(n):\n",
    "    k = np.random.randn(n)\n",
    "    return k / sum(k)"
   ]
  },
  {
   "cell_type": "code",
   "execution_count": null,
   "id": "d9b99cf9",
   "metadata": {},
   "outputs": [],
   "source": [
    "def gen_returns(asset_count, nobs, drift=0.0):\n",
    "    return np.random.randn(asset_count, nobs) + drift"
   ]
  },
  {
   "cell_type": "code",
   "execution_count": null,
   "id": "e6dde831",
   "metadata": {},
   "outputs": [],
   "source": [
    "def random_portfolio(returns, weight_func):\n",
    "    w = weight_func(returns.shape[0])\n",
    "    mu = np.dot(np.mean(returns, axis=1), w)\n",
    "    sigma = math.sqrt(np.dot(w, np.dot(np.cov(returns), w)))\n",
    "    if sigma > 2:\n",
    "        return random_portfolio(returns, weight_func)\n",
    "    return sigma, mu"
   ]
  },
  {
   "cell_type": "code",
   "execution_count": null,
   "id": "fc48cf3d",
   "metadata": {
    "lines_to_next_cell": 1
   },
   "outputs": [],
   "source": [
    "def get_kelly_portfolios():\n",
    "    ww = np.dot(np.linalg.inv(opt.matrix(S)), opt.matrix(pbar))\n",
    "    rks = []\n",
    "    res = []\n",
    "    for i in np.arange(0.05, 20, 0.0001):\n",
    "        w = ww / i\n",
    "        rks.append(blas.dot(pbar, opt.matrix(w)))\n",
    "        res.append(np.sqrt(blas.dot(opt.matrix(w), S * opt.matrix(w))))\n",
    "    return res, rks"
   ]
  },
  {
   "cell_type": "markdown",
   "id": "97302988",
   "metadata": {},
   "source": [
    "Here, we set up functions to help with all the main tasks in our simulation: creating random weights, simulating returns, and using those returns to evaluate random portfolios. One function also iterates through different leverage values to trace out the Kelly-optimal portfolios' risk and return profile. Keeping these actions modular lets us easily try different portfolio constructions and risk calculations later."
   ]
  },
  {
   "cell_type": "markdown",
   "id": "93dc679a",
   "metadata": {},
   "source": [
    "## Simulate returns and optimize portfolios"
   ]
  },
  {
   "cell_type": "markdown",
   "id": "fcef5dde",
   "metadata": {},
   "source": [
    "This block generates simulated returns for all assets, constructs random portfolios, and solves for the efficient frontier using quadratic programming with cvxopt."
   ]
  },
  {
   "cell_type": "code",
   "execution_count": null,
   "id": "5f18c489",
   "metadata": {},
   "outputs": [],
   "source": [
    "return_vec = gen_returns(n, nobs, drift=0.01)\n",
    "stds, means = np.column_stack(\n",
    "    [random_portfolio(return_vec, rand_weights) for _ in range(500)]\n",
    ")"
   ]
  },
  {
   "cell_type": "code",
   "execution_count": null,
   "id": "bf35f7ed",
   "metadata": {},
   "outputs": [],
   "source": [
    "k = np.array(return_vec)\n",
    "S = opt.matrix(np.cov(k))\n",
    "pbar = opt.matrix(np.mean(k, axis=1))"
   ]
  },
  {
   "cell_type": "code",
   "execution_count": null,
   "id": "2df918f9",
   "metadata": {},
   "outputs": [],
   "source": [
    "G = -opt.matrix(np.eye(n))\n",
    "h = opt.matrix(0.0, (n, 1))\n",
    "A = opt.matrix(1.0, (1, n))\n",
    "b = opt.matrix(1.0)"
   ]
  },
  {
   "cell_type": "code",
   "execution_count": null,
   "id": "3967756e",
   "metadata": {},
   "outputs": [],
   "source": [
    "N = 100\n",
    "mus = [10 ** (5.0 * t / N - 1.0) for t in range(N)]"
   ]
  },
  {
   "cell_type": "code",
   "execution_count": null,
   "id": "6fda6e9d",
   "metadata": {},
   "outputs": [],
   "source": [
    "portfolios = [solvers.qp(mu * S, -pbar, G, h, A, b)[\"x\"] for mu in mus]"
   ]
  },
  {
   "cell_type": "code",
   "execution_count": null,
   "id": "012beb69",
   "metadata": {},
   "outputs": [],
   "source": [
    "returns = [blas.dot(pbar, x) for x in portfolios]\n",
    "risks = [np.sqrt(blas.dot(x, S * x)) for x in portfolios]"
   ]
  },
  {
   "cell_type": "code",
   "execution_count": null,
   "id": "28fdd127",
   "metadata": {},
   "outputs": [],
   "source": [
    "res, rks = get_kelly_portfolios()"
   ]
  },
  {
   "cell_type": "markdown",
   "id": "04cca0ff",
   "metadata": {},
   "source": [
    "We create 1,000 simulated daily returns for each asset with a slight positive drift to reflect expected growth. We run hundreds of random portfolios to see the spread of risk and return, then prepare the data for quadratic programming using cvxopt matrices. We solve for the efficient frontier by varying a risk-aversion parameter and store all the optimal combinations of portfolio risk and return for plotting. We also calculate the Kelly-optimal portfolios to compare how aggressive leverage changes expected return and risk."
   ]
  },
  {
   "cell_type": "markdown",
   "id": "23230c40",
   "metadata": {},
   "source": [
    "## Visualize portfolio results and Kelly curve"
   ]
  },
  {
   "cell_type": "markdown",
   "id": "af6d2c74",
   "metadata": {},
   "source": [
    "This block plots random portfolios, the efficient frontier, and Kelly portfolios to compare how each approach balances risk and expected return."
   ]
  },
  {
   "cell_type": "code",
   "execution_count": null,
   "id": "c4675661",
   "metadata": {},
   "outputs": [],
   "source": [
    "f, ax = plt.subplots()\n",
    "plt.plot(stds, means, \"o\", markersize=2)\n",
    "ax.set_xlabel(\"Volitility\")\n",
    "ax.set_ylabel(\"Return\")\n",
    "plt.title(\"Optimal Portfolio with Kelly\")\n",
    "plt.plot(risks, returns, \"y-o\", markersize=2)\n",
    "plt.plot(res, rks, color=\"lightgray\", marker=\"o\", markersize=1)\n",
    "plt.plot(res, np.array(rks) * -1, color=\"lightgray\", marker=\"o\", markersize=1);"
   ]
  },
  {
   "cell_type": "markdown",
   "id": "b7e77c77",
   "metadata": {},
   "source": [
    "We present a chart with three key data sets: random portfolios (blue dots), the efficient frontier (yellow line and dots), and different leverage points for Kelly-optimal portfolios (light gray). This lets us see, at a glance, how different portfolio choices trade off between risk and return. We label the axes so it's easy to compare each method. The chart brings together everything from our simulation, showing clearly how different strategies perform according to risk and potential gain."
   ]
  },
  {
   "cell_type": "markdown",
   "id": "16f72696",
   "metadata": {},
   "source": [
    "<a href=\"https://pyquantnews.com/\">PyQuant News</a> is where finance practitioners level up with Python for quant finance, algorithmic trading, and market data analysis. Looking to get started? Check out the fastest growing, top-selling course to <a href=\"https://gettingstartedwithpythonforquantfinance.com/\">get started with Python for quant finance</a>. For educational purposes. Not investment advice. Use at your own risk."
   ]
  }
 ],
 "metadata": {
  "jupytext": {
   "cell_metadata_filter": "-all",
   "main_language": "python",
   "notebook_metadata_filter": "-all"
  }
 },
 "nbformat": 4,
 "nbformat_minor": 5
}
