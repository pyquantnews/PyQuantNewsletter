{
 "cells": [
  {
   "cell_type": "markdown",
   "id": "fff3cb5a",
   "metadata": {},
   "source": [
    "<div style=\"background-color:#000;\"><img src=\"pqn.png\"></img></div>"
   ]
  },
  {
   "cell_type": "markdown",
   "id": "c19015b2",
   "metadata": {},
   "source": [
    "We use yFinance to download historical price data, pandas for working with tables of data, numpy for numerical operations, and vectorbt for building and testing trading strategies."
   ]
  },
  {
   "cell_type": "markdown",
   "id": "9570bb1b",
   "metadata": {},
   "source": [
    "## Imports and setup"
   ]
  },
  {
   "cell_type": "markdown",
   "id": "e7c64937",
   "metadata": {},
   "source": [
    "This cell loads the required libraries and sets the start and end dates, as well as the ticker symbols for the two assets."
   ]
  },
  {
   "cell_type": "code",
   "execution_count": null,
   "id": "32651db6",
   "metadata": {},
   "outputs": [],
   "source": [
    "import numpy as np\n",
    "import pandas as pd\n",
    "import vectorbt as vbt\n",
    "import yfinance as yf"
   ]
  },
  {
   "cell_type": "code",
   "execution_count": null,
   "id": "06167f35",
   "metadata": {},
   "outputs": [],
   "source": [
    "start_date = \"2010-01-01\"\n",
    "end_date = pd.Timestamp.today().strftime(\"%Y-%m-%d\")\n",
    "symbols = [\"TLT\", \"SPY\"]"
   ]
  },
  {
   "cell_type": "markdown",
   "id": "d9f066b9",
   "metadata": {},
   "source": [
    "With these imports and settings, we have the tools to download price data for TLT (long-term US Treasuries) and SPY (S&P 500) and work with it in the cells that follow. The tickers and date range are ready for further use."
   ]
  },
  {
   "cell_type": "markdown",
   "id": "4915d09f",
   "metadata": {},
   "source": [
    "## Download and organize price data"
   ]
  },
  {
   "cell_type": "markdown",
   "id": "09fbacbe",
   "metadata": {},
   "source": [
    "This cell downloads daily closing price data for TLT and SPY using yFinance and ensures all missing data is removed."
   ]
  },
  {
   "cell_type": "code",
   "execution_count": null,
   "id": "a33aa03f",
   "metadata": {},
   "outputs": [],
   "source": [
    "price_data = yf.download(symbols, start=start_date, end=end_date, auto_adjust=False)[\n",
    "    \"Close\"\n",
    "]\n",
    "price_data = price_data.dropna()"
   ]
  },
  {
   "cell_type": "markdown",
   "id": "95943068",
   "metadata": {},
   "source": [
    "Here, we use yFinance to fetch historical closing prices for both tickers over our chosen period. The code organizes this data into a table and then filters out any dates that are missing information for either TLT or SPY. This guarantees that any further calculations use complete, reliable data on both assets."
   ]
  },
  {
   "cell_type": "markdown",
   "id": "8f3a465d",
   "metadata": {},
   "source": [
    "This cell extracts date information and groups it by month to find key trading days."
   ]
  },
  {
   "cell_type": "code",
   "execution_count": null,
   "id": "c3347a86",
   "metadata": {},
   "outputs": [],
   "source": [
    "dates = price_data.index\n",
    "year_month = price_data.index.to_period(\"M\")\n",
    "grouped = pd.DataFrame({\"dt\": dates, \"ym\": year_month}).groupby(\"ym\")[\"dt\"]\n",
    "first_trading_days = grouped.first().values\n",
    "last_trading_days = grouped.last().values"
   ]
  },
  {
   "cell_type": "markdown",
   "id": "4d75bb68",
   "metadata": {},
   "source": [
    "The code pulls out the trading dates and arranges them on a monthly calendar. It then figures out which day is the first and last trading date of each month. This organization helps us mark important points in each month that we can use to define trade entry and exit points later on."
   ]
  },
  {
   "cell_type": "markdown",
   "id": "3a6e498d",
   "metadata": {},
   "source": [
    "## Create trading signal events"
   ]
  },
  {
   "cell_type": "markdown",
   "id": "90d1241e",
   "metadata": {
    "lines_to_next_cell": 2
   },
   "source": [
    "This cell defines two functions that help us find trading dates before or after certain monthly milestones."
   ]
  },
  {
   "cell_type": "code",
   "execution_count": null,
   "id": "7429949e",
   "metadata": {},
   "outputs": [],
   "source": [
    "def get_prev_trading_day_idx(trading_dates, base_dates, offset):\n",
    "    idx = []\n",
    "    trading_dates = pd.Series(trading_dates)\n",
    "    for d in base_dates:\n",
    "        pos = trading_dates.searchsorted(d)\n",
    "        prev_idx = pos - offset\n",
    "        if prev_idx >= 0:\n",
    "            idx.append(trading_dates.iloc[prev_idx])\n",
    "    return pd.DatetimeIndex(idx)"
   ]
  },
  {
   "cell_type": "code",
   "execution_count": null,
   "id": "363af82b",
   "metadata": {},
   "outputs": [],
   "source": [
    "def get_offset_trading_day_idx(trading_dates, base_dates, offset):\n",
    "    idx = []\n",
    "    trading_dates = pd.Series(trading_dates)\n",
    "    for d in base_dates:\n",
    "        pos = trading_dates.searchsorted(d)\n",
    "        target_idx = pos + offset\n",
    "        if target_idx < len(trading_dates):\n",
    "            idx.append(trading_dates.iloc[target_idx])\n",
    "    return pd.DatetimeIndex(idx)"
   ]
  },
  {
   "cell_type": "markdown",
   "id": "a845b499",
   "metadata": {},
   "source": [
    "These two small tools let us find trading days just before or after specific dates. The first one moves backward from a list of monthly dates, returning dates a set number of days before. The second one moves forward by a set offset. This gives flexibility to mark and track entries and exits around key dates for our trading strategy."
   ]
  },
  {
   "cell_type": "markdown",
   "id": "cb80e947",
   "metadata": {},
   "source": [
    "This cell calculates special dates like seven days before the end of each month, the first trading day of each new month, and one week after that."
   ]
  },
  {
   "cell_type": "code",
   "execution_count": null,
   "id": "836a42b1",
   "metadata": {},
   "outputs": [],
   "source": [
    "pre_end_idx = get_prev_trading_day_idx(dates, last_trading_days, 7)\n",
    "month_start_idx = get_offset_trading_day_idx(dates, last_trading_days, 1)\n",
    "week_after_start_idx = get_offset_trading_day_idx(dates, month_start_idx, 7)"
   ]
  },
  {
   "cell_type": "markdown",
   "id": "f0883efe",
   "metadata": {},
   "source": [
    "By picking out dates just before month-end, right at the start of the month, and a week into the following month, we set up a schedule for trading decisions. These timing markers get used to assign buy and sell moments for both TLT and SPY, setting the stage for later trades."
   ]
  },
  {
   "cell_type": "markdown",
   "id": "cd1b255d",
   "metadata": {},
   "source": [
    "This cell sets up blank templates with all dates for tracking trade entry and exit signals for both long and short positions on each asset."
   ]
  },
  {
   "cell_type": "code",
   "execution_count": null,
   "id": "4fbcd327",
   "metadata": {},
   "outputs": [],
   "source": [
    "entries_long_tlt = pd.Series(False, index=dates)\n",
    "entries_short_spy = pd.Series(False, index=dates)\n",
    "exits_long_tlt = pd.Series(False, index=dates)\n",
    "exits_short_spy = pd.Series(False, index=dates)"
   ]
  },
  {
   "cell_type": "code",
   "execution_count": null,
   "id": "6a5b1361",
   "metadata": {},
   "outputs": [],
   "source": [
    "entries_short_tlt = pd.Series(False, index=dates)\n",
    "entries_long_spy = pd.Series(False, index=dates)\n",
    "exits_short_tlt = pd.Series(False, index=dates)\n",
    "exits_long_spy = pd.Series(False, index=dates)"
   ]
  },
  {
   "cell_type": "markdown",
   "id": "6ff26728",
   "metadata": {},
   "source": [
    "With these arrays, we set up a way to record trade events for buying or selling TLT and SPY, both in the normal direction (long) and the reverse (short). Every possible trading day is included, and we fill in the true signals for each position in later steps."
   ]
  },
  {
   "cell_type": "markdown",
   "id": "7bef109b",
   "metadata": {},
   "source": [
    "This cell fills in our trading signal templates: opening long and short trades at the planned times."
   ]
  },
  {
   "cell_type": "code",
   "execution_count": null,
   "id": "51a96c0c",
   "metadata": {},
   "outputs": [],
   "source": [
    "entries_long_tlt.loc[pre_end_idx] = True\n",
    "entries_short_tlt.loc[month_start_idx] = True"
   ]
  },
  {
   "cell_type": "code",
   "execution_count": null,
   "id": "70d61cb3",
   "metadata": {},
   "outputs": [],
   "source": [
    "entries_long_spy.loc[pre_end_idx] = True\n",
    "entries_short_spy.loc[month_start_idx] = True"
   ]
  },
  {
   "cell_type": "markdown",
   "id": "7e834c9d",
   "metadata": {},
   "source": [
    "Here, we signal entries for long trades on both assets a week before month-end and entries for short trades on the first day of the new month. This mirrors a pattern that may take advantage of cyclical market movements, using both TLT and SPY in tandem."
   ]
  },
  {
   "cell_type": "markdown",
   "id": "2272492f",
   "metadata": {},
   "source": [
    "This cell fills in our templates for when we will close out long and short trades."
   ]
  },
  {
   "cell_type": "code",
   "execution_count": null,
   "id": "a8ec7675",
   "metadata": {},
   "outputs": [],
   "source": [
    "exits_long_tlt.loc[month_start_idx] = True\n",
    "exits_short_tlt.loc[week_after_start_idx] = True"
   ]
  },
  {
   "cell_type": "code",
   "execution_count": null,
   "id": "85089d16",
   "metadata": {},
   "outputs": [],
   "source": [
    "exits_long_spy.loc[month_start_idx] = True\n",
    "exits_short_spy.loc[week_after_start_idx] = True"
   ]
  },
  {
   "cell_type": "markdown",
   "id": "75af252d",
   "metadata": {},
   "source": [
    "For both TLT and SPY, we set exits for long trades on the first day of the month and close short positions one week after initiating them. This splits the strategy's open periods across key monthly markers, creating a consistent trading rhythm."
   ]
  },
  {
   "cell_type": "markdown",
   "id": "cc59dd01",
   "metadata": {},
   "source": [
    "This cell organizes all trading signals into a clear table, making further analysis more straightforward."
   ]
  },
  {
   "cell_type": "code",
   "execution_count": null,
   "id": "38724ba4",
   "metadata": {},
   "outputs": [],
   "source": [
    "signals = pd.DataFrame(\n",
    "    index=dates,\n",
    "    columns=pd.MultiIndex.from_product(\n",
    "        [symbols, [\"long_entry\", \"long_exit\", \"short_entry\", \"short_exit\"]]\n",
    "    ),\n",
    "    data=False,\n",
    ")"
   ]
  },
  {
   "cell_type": "code",
   "execution_count": null,
   "id": "f8536f11",
   "metadata": {},
   "outputs": [],
   "source": [
    "signals[(\"TLT\", \"long_entry\")] = entries_long_tlt\n",
    "signals[(\"TLT\", \"long_exit\")] = exits_long_tlt\n",
    "signals[(\"TLT\", \"short_entry\")] = entries_short_tlt\n",
    "signals[(\"TLT\", \"short_exit\")] = exits_short_tlt\n",
    "signals[(\"SPY\", \"long_entry\")] = entries_long_spy\n",
    "signals[(\"SPY\", \"long_exit\")] = exits_long_spy\n",
    "signals[(\"SPY\", \"short_entry\")] = entries_short_spy\n",
    "signals[(\"SPY\", \"short_exit\")] = exits_short_spy"
   ]
  },
  {
   "cell_type": "code",
   "execution_count": null,
   "id": "c9f7d1d7",
   "metadata": {},
   "outputs": [],
   "source": [
    "long_entry = pd.DataFrame(\n",
    "    {symbol: signals[(symbol, \"long_entry\")] for symbol in symbols}\n",
    ")\n",
    "long_exit = pd.DataFrame({symbol: signals[(symbol, \"long_exit\")] for symbol in symbols})\n",
    "short_entry = pd.DataFrame(\n",
    "    {symbol: signals[(symbol, \"short_entry\")] for symbol in symbols}\n",
    ")\n",
    "short_exit = pd.DataFrame(\n",
    "    {symbol: signals[(symbol, \"short_exit\")] for symbol in symbols}\n",
    ")"
   ]
  },
  {
   "cell_type": "markdown",
   "id": "9faf8661",
   "metadata": {},
   "source": [
    "All our trading signals are now collected into a well-labeled table, with separate columns for entries and exits on both tickers and both long and short directions. Breaking out these entry and exit points into their own tables keeps things neat and ready for handoff to the trading engine."
   ]
  },
  {
   "cell_type": "markdown",
   "id": "15826763",
   "metadata": {},
   "source": [
    "## Test the trading strategy"
   ]
  },
  {
   "cell_type": "markdown",
   "id": "e5fc2713",
   "metadata": {},
   "source": [
    "This cell runs our strategy through the vectorbt engine to simulate performance, then summarizes key portfolio statistics."
   ]
  },
  {
   "cell_type": "code",
   "execution_count": null,
   "id": "fd6e64a3",
   "metadata": {},
   "outputs": [],
   "source": [
    "import numpy as np"
   ]
  },
  {
   "cell_type": "code",
   "execution_count": null,
   "id": "f4822192",
   "metadata": {},
   "outputs": [],
   "source": [
    "pf = vbt.Portfolio.from_signals(\n",
    "    price_data,\n",
    "    entries=long_entry,\n",
    "    exits=long_exit,\n",
    "    short_entries=short_entry,\n",
    "    short_exits=short_exit,\n",
    "    freq=\"D\",\n",
    "    size_type=1,\n",
    "    size=np.inf,\n",
    "    init_cash=100_000,\n",
    ")"
   ]
  },
  {
   "cell_type": "code",
   "execution_count": null,
   "id": "451170d6",
   "metadata": {},
   "outputs": [],
   "source": [
    "pf.stats()"
   ]
  },
  {
   "cell_type": "markdown",
   "id": "683b4876",
   "metadata": {},
   "source": [
    "The code hands the historical price series and our carefully-timed trading signals to vectorbt, which runs a backtest over the whole period. It sets the initial cash to $100,000 and assumes trades happen in unlimited size to focus on signal logic. The strategy summary at the end delivers a breakdown of performance including return, risk, and other useful metrics, letting us judge how well this trading approach worked."
   ]
  },
  {
   "cell_type": "markdown",
   "id": "d9bd22c4",
   "metadata": {},
   "source": [
    "<a href=\"https://pyquantnews.com/\">PyQuant News</a> is where finance practitioners level up with Python for quant finance, algorithmic trading, and market data analysis. Looking to get started? Check out the fastest growing, top-selling course to <a href=\"https://gettingstartedwithpythonforquantfinance.com/\">get started with Python for quant finance</a>. For educational purposes. Not investment advice. Use at your own risk."
   ]
  }
 ],
 "metadata": {
  "jupytext": {
   "cell_metadata_filter": "-all",
   "main_language": "python",
   "notebook_metadata_filter": "-all"
  }
 },
 "nbformat": 4,
 "nbformat_minor": 5
}
