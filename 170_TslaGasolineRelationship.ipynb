{
 "cells": [
  {
   "cell_type": "markdown",
   "id": "32bdfbf8",
   "metadata": {},
   "source": [
    "<div style=\"background-color:#000;\"><img src=\"pqn.png\"></img></div>"
   ]
  },
  {
   "cell_type": "markdown",
   "id": "af1149ab",
   "metadata": {},
   "source": [
    "## Imports and setup"
   ]
  },
  {
   "cell_type": "markdown",
   "id": "17f19f29",
   "metadata": {},
   "source": [
    "We use itertools to help with chart colors, matplotlib for plotting, scipy for statistics, yfinance to pull prices, and pykalman for smoothing price series with a Kalman filter."
   ]
  },
  {
   "cell_type": "code",
   "execution_count": null,
   "id": "da9b4cae",
   "metadata": {},
   "outputs": [],
   "source": [
    "from itertools import cycle\n",
    "import matplotlib.pyplot as plt\n",
    "import scipy\n",
    "import yfinance as yf\n",
    "from pykalman import KalmanFilter"
   ]
  },
  {
   "cell_type": "markdown",
   "id": "327d45bb",
   "metadata": {},
   "source": [
    "This block sets up a color cycle for future plots so our charts use consistent, readable color choices."
   ]
  },
  {
   "cell_type": "code",
   "execution_count": null,
   "id": "601a63bf",
   "metadata": {},
   "outputs": [],
   "source": [
    "color_cycle = cycle(plt.rcParams[\"axes.prop_cycle\"].by_key()[\"color\"])"
   ]
  },
  {
   "cell_type": "markdown",
   "id": "2da4a397",
   "metadata": {},
   "source": [
    "Here, we download daily closing prices for TSLA and UGA since January 2020 using the yFinance library, then remove any missing values."
   ]
  },
  {
   "cell_type": "code",
   "execution_count": null,
   "id": "fc157110",
   "metadata": {},
   "outputs": [],
   "source": [
    "start_date = \"2020-01-01\"\n",
    "prices = yf.download([\"TSLA\", \"UGA\"], start=start_date).Close.dropna()"
   ]
  },
  {
   "cell_type": "markdown",
   "id": "e00efbf6",
   "metadata": {},
   "source": [
    "This code initializes a Kalman filter. The filter helps us smooth out noise in financial time series so we can see longer-term trends more easily."
   ]
  },
  {
   "cell_type": "code",
   "execution_count": null,
   "id": "c476af68",
   "metadata": {},
   "outputs": [],
   "source": [
    "kf = KalmanFilter(\n",
    "    transition_matrices=[1],\n",
    "    observation_matrices=[1],\n",
    "    initial_state_mean=0,\n",
    "    initial_state_covariance=1,\n",
    "    observation_covariance=1,\n",
    "    transition_covariance=0.01,\n",
    ")"
   ]
  },
  {
   "cell_type": "markdown",
   "id": "4e744403",
   "metadata": {
    "lines_to_next_cell": 2
   },
   "source": [
    "The code above brings in all our tools, prepares them for analysis, and loads up our dataset. The Kalman filter settings allow us to apply a gentle smoothing process to raw price movements for TSLA and UGA. By getting this foundation in place, we can directly analyze and visualize how price trends evolve over time using both raw and smoothed data."
   ]
  },
  {
   "cell_type": "markdown",
   "id": "b9c27c36",
   "metadata": {},
   "source": [
    "## Visualize smoothed and raw price series"
   ]
  },
  {
   "cell_type": "markdown",
   "id": "64662b91",
   "metadata": {},
   "source": [
    "This block applies the Kalman filter to the TSLA price data, plots the original prices as gray points, and plots the smoothed prices as a red line."
   ]
  },
  {
   "cell_type": "code",
   "execution_count": null,
   "id": "177cd4b9",
   "metadata": {},
   "outputs": [],
   "source": [
    "scores_tsla, _ = kf.filter(prices.TSLA)\n",
    "plt.scatter(prices.index, prices.TSLA, c=\"gray\", s=10, label=\"TSLA Price\")\n",
    "plt.plot(prices.index, scores_tsla, c=\"red\", label=\"TSLA MA\")\n",
    "plt.ylabel(\"TSLA Price\")\n",
    "plt.xlabel(\"Date\")\n",
    "plt.show()"
   ]
  },
  {
   "cell_type": "markdown",
   "id": "575a1915",
   "metadata": {},
   "source": [
    "Here we use the Kalman filter to smooth both TSLA and UGA price series, then plot both moving averages together on the same chart using Matplotlib’s dual y-axis."
   ]
  },
  {
   "cell_type": "code",
   "execution_count": null,
   "id": "c47129eb",
   "metadata": {},
   "outputs": [],
   "source": [
    "scores_uga, _ = kf.filter(prices.UGA)\n",
    "scores_tsla, _ = kf.filter(prices.TSLA)"
   ]
  },
  {
   "cell_type": "code",
   "execution_count": null,
   "id": "6dac6e21",
   "metadata": {},
   "outputs": [],
   "source": [
    "_, ax1 = plt.subplots()\n",
    "ax1.plot(prices.index, scores_tsla, color=next(color_cycle), label=\"TSLA MA\")\n",
    "plt.xlabel(\"Date\")\n",
    "plt.ylabel(\"TSLA Price MA\")\n",
    "ax2 = ax1.twinx()\n",
    "ax2.plot(prices.index, scores_uga, color=next(color_cycle), label=\"UGA Price MA\")\n",
    "plt.ylabel(\"UGA Price MA\")\n",
    "plt.show()"
   ]
  },
  {
   "cell_type": "markdown",
   "id": "cc0aabb3",
   "metadata": {
    "lines_to_next_cell": 2
   },
   "source": [
    "In these plots, we see how the Kalman filter helps us reduce day-to-day noise and spot broader movements. The moving average line provides a clean view of what direction prices are generally trending. Using dual axes makes it easy to compare two unrelated securities over time, even if their price levels are very different."
   ]
  },
  {
   "cell_type": "markdown",
   "id": "327d2eff",
   "metadata": {},
   "source": [
    "## Measure and visualize statistical relationships"
   ]
  },
  {
   "cell_type": "markdown",
   "id": "b389c081",
   "metadata": {},
   "source": [
    "This block defines a function that explores how price movements in the two assets are related over different time lags, using Spearman correlation from the scipy library. It visualizes the correlation at various offsets to spot where the strongest similarities or lead-lag relationships occur."
   ]
  },
  {
   "cell_type": "code",
   "execution_count": null,
   "id": "849503f4",
   "metadata": {
    "lines_to_next_cell": 1
   },
   "outputs": [],
   "source": [
    "def find_offset(ts1, ts2, window):\n",
    "    l = len(ts1)\n",
    "    max_i_spearman = -1000\n",
    "    max_spearman = -1000\n",
    "    spear_offsets = []\n",
    "\n",
    "    for i in range(window, 0, -1):\n",
    "        series1 = ts1[i:]\n",
    "        series2 = ts2[: l - i]\n",
    "        spear = scipy.stats.spearmanr(series1, series2)[0]\n",
    "        spear_offsets.append(spear)\n",
    "\n",
    "        if spear > max_spearman:\n",
    "            max_spearman = spear\n",
    "            max_i_spearman = -i\n",
    "\n",
    "    for i in range(0, window):\n",
    "        series1 = ts1[: l - i]\n",
    "        series2 = ts2[i:]\n",
    "        spear = scipy.stats.spearmanr(series1, series2)[0]\n",
    "        spear_offsets.append(spear)\n",
    "        if spear > max_spearman:\n",
    "            max_spearman = spear\n",
    "            max_i_spearman = i\n",
    "\n",
    "    print(\"Max Spearman:\", max_spearman, \" At offset: \", max_i_spearman)\n",
    "    plt.plot(\n",
    "        range(-window, window), spear_offsets, c=\"green\", label=\"Spearman Correlation\"\n",
    "    )\n",
    "    plt.xlabel(\"Offset Size (Number of Business Days)\")\n",
    "    plt.ylabel(\"Spearman Correlation\")\n",
    "    plt.legend(loc=3)\n",
    "    plt.show()"
   ]
  },
  {
   "cell_type": "markdown",
   "id": "8e661fb5",
   "metadata": {},
   "source": [
    "By running the function below, we examine how smoothed price movements in TSLA and UGA are correlated at different lags and leads, and compare these results to the raw price series."
   ]
  },
  {
   "cell_type": "code",
   "execution_count": null,
   "id": "f1c174ab",
   "metadata": {},
   "outputs": [],
   "source": [
    "print(\"Kalman-Filtered Smoothed Data\")\n",
    "find_offset(scores_tsla, scores_uga, 200)\n",
    "print(\"Raw Data\")\n",
    "find_offset(prices.TSLA, prices.UGA, 150)"
   ]
  },
  {
   "cell_type": "markdown",
   "id": "4ae6b262",
   "metadata": {
    "lines_to_next_cell": 2
   },
   "source": [
    "This function reveals how the price actions of our selected tickers are statistically connected, even when separated by a number of business days. By scanning across a range of offsets, we highlight where these relationships are most similar, which can point to leadership or lagging effects. Visualizing the correlation results helps us see hidden trends or dependencies between assets beyond what raw plots may show."
   ]
  },
  {
   "cell_type": "markdown",
   "id": "76d9376c",
   "metadata": {},
   "source": [
    "## Compare offset moving averages directly"
   ]
  },
  {
   "cell_type": "markdown",
   "id": "525e8130",
   "metadata": {},
   "source": [
    "This block lines up the smoothed price series for TSLA and UGA with a specific time offset (here, 140 business days apart) and displays both moving averages on the same chart for easy visual comparison."
   ]
  },
  {
   "cell_type": "code",
   "execution_count": null,
   "id": "c99b7c52",
   "metadata": {},
   "outputs": [],
   "source": [
    "d = 140"
   ]
  },
  {
   "cell_type": "code",
   "execution_count": null,
   "id": "3038bcef",
   "metadata": {},
   "outputs": [],
   "source": [
    "cseries1 = scores_tsla[d:]\n",
    "cseries2 = scores_uga[: len(scores_tsla) - d]\n",
    "r = range(len(cseries1))"
   ]
  },
  {
   "cell_type": "code",
   "execution_count": null,
   "id": "1d3f7d93",
   "metadata": {},
   "outputs": [],
   "source": [
    "_, ax1 = plt.subplots()\n",
    "ax1.plot(r, cseries1, color=next(color_cycle), label=\"TSLA MA\")\n",
    "plt.xlabel(\"Number of Business Days Elapsed\")\n",
    "plt.ylabel(\"TSLA Price MA\")\n",
    "plt.legend(loc=2)\n",
    "ax2 = ax1.twinx()\n",
    "ax2.plot(r, cseries2, color=next(color_cycle), label=\"UGA Price MA\")\n",
    "plt.ylabel(\"UGA Price MA\")\n",
    "plt.legend(loc=4)\n",
    "plt.title(f\"{d} Day Offset\")\n",
    "plt.show()"
   ]
  },
  {
   "cell_type": "markdown",
   "id": "389c8c72",
   "metadata": {},
   "source": [
    "Here we directly compare the trends of both moving averages, visually shifting one series by a significant number of days. This kind of alignment lets us see whether patterns from one asset appear later in the other. Using offset comparisons like this is a hands-on way to uncover possible leading or lagging relationships in how different asset prices move over time."
   ]
  },
  {
   "cell_type": "markdown",
   "id": "5706d84d",
   "metadata": {},
   "source": [
    "<a href=\"https://pyquantnews.com/\">PyQuant News</a> is where finance practitioners level up with Python for quant finance, algorithmic trading, and market data analysis. Looking to get started? Check out the fastest growing, top-selling course to <a href=\"https://gettingstartedwithpythonforquantfinance.com/\">get started with Python for quant finance</a>. For educational purposes. Not investment advice. Use at your own risk."
   ]
  }
 ],
 "metadata": {
  "jupytext": {
   "cell_metadata_filter": "-all",
   "main_language": "python",
   "notebook_metadata_filter": "-all"
  }
 },
 "nbformat": 4,
 "nbformat_minor": 5
}
