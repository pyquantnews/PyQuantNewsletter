{
 "cells": [
  {
   "cell_type": "markdown",
   "id": "0130b1ae",
   "metadata": {},
   "source": [
    "<div style=\"background-color:#000;\"><img src=\"pqn.png\"></img></div>"
   ]
  },
  {
   "cell_type": "markdown",
   "id": "8cca156f",
   "metadata": {},
   "source": [
    "We use math for numerical methods, matplotlib.pyplot for charting, numpy for numerical arrays, statsmodels and the regression module for statistical modeling, and yfinance for downloading market price data."
   ]
  },
  {
   "cell_type": "code",
   "execution_count": null,
   "id": "9e8b2386",
   "metadata": {},
   "outputs": [],
   "source": [
    "import math\n",
    "import matplotlib.pyplot as plt\n",
    "import numpy as np\n",
    "import statsmodels.api as sm\n",
    "import yfinance as yf\n",
    "from statsmodels import regression"
   ]
  },
  {
   "cell_type": "markdown",
   "id": "4a041dcc",
   "metadata": {},
   "source": [
    "## Download and prepare historical data"
   ]
  },
  {
   "cell_type": "markdown",
   "id": "f8669afb",
   "metadata": {},
   "source": [
    "This block pulls daily price data for the XLY ETF from Yahoo Finance using yfinance, keeping only the close prices for a 10-year period."
   ]
  },
  {
   "cell_type": "code",
   "execution_count": null,
   "id": "f598d810",
   "metadata": {
    "lines_to_next_cell": 1
   },
   "outputs": [],
   "source": [
    "close = yf.download(\n",
    "    \"XLY\", period=\"10y\", interval=\"1d\", auto_adjust=False, progress=False\n",
    ").Close\n",
    "dates = close.index"
   ]
  },
  {
   "cell_type": "markdown",
   "id": "5f2ec4d7",
   "metadata": {},
   "source": [
    "The code here requests historical data for the XLY ETF, which tracks consumer discretionary stocks. We use the yfinance library to grab the data and focus only on the closing values, dropping everything else. The result is an indexed time series we'll analyze further."
   ]
  },
  {
   "cell_type": "markdown",
   "id": "8be74a45",
   "metadata": {},
   "source": [
    "## Run a log-linear regression"
   ]
  },
  {
   "cell_type": "markdown",
   "id": "9fd7b1fa",
   "metadata": {},
   "source": [
    "This block defines a function to fit a log-linear regression to the price data, modeling price growth as exponential over time."
   ]
  },
  {
   "cell_type": "code",
   "execution_count": null,
   "id": "fafddc96",
   "metadata": {
    "lines_to_next_cell": 1
   },
   "outputs": [],
   "source": [
    "def loglinreg(X, Y):\n",
    "    x = sm.add_constant(X)\n",
    "    model = regression.linear_model.OLS(np.log(Y), x).fit()\n",
    "    a, b = model.params\n",
    "\n",
    "    X2 = np.linspace(X.min(), X.max(), 100)\n",
    "    Y_hat = np.exp(a + b * X2)\n",
    "    return model, X2, Y_hat"
   ]
  },
  {
   "cell_type": "markdown",
   "id": "b6825dc1",
   "metadata": {},
   "source": [
    "This function uses statsmodels to perform a regression where we assume the logarithm of the price changes linearly over time. It returns the regression model along with a smooth set of points for plotting. We use the exponential function to transform predicted values back to actual prices, so the output matches the original price scale."
   ]
  },
  {
   "cell_type": "markdown",
   "id": "690cefe6",
   "metadata": {},
   "source": [
    "This block generates our independent and dependent variables, fits the regression, and computes the fitted values."
   ]
  },
  {
   "cell_type": "code",
   "execution_count": null,
   "id": "35d60c41",
   "metadata": {},
   "outputs": [],
   "source": [
    "X = np.arange(len(close))\n",
    "Y = close.values\n",
    "model, X2, Y_hat = loglinreg(X, Y)"
   ]
  },
  {
   "cell_type": "markdown",
   "id": "962ae4c2",
   "metadata": {},
   "source": [
    "Here, we assign each time point a sequential index number for regression. We send these numbers and the corresponding price values into our log-linear regression. The model outputs both the statistical fit and a set of predicted prices, ready for charting."
   ]
  },
  {
   "cell_type": "markdown",
   "id": "b0deeb0b",
   "metadata": {},
   "source": [
    "## Visualize the regression fit"
   ]
  },
  {
   "cell_type": "markdown",
   "id": "ff448880",
   "metadata": {},
   "source": [
    "This block creates a chart showing both the actual XLY price data and the fitted exponential growth curve."
   ]
  },
  {
   "cell_type": "code",
   "execution_count": null,
   "id": "b11a6149",
   "metadata": {},
   "outputs": [],
   "source": [
    "fig, ax = plt.subplots()\n",
    "ax.plot(dates, Y, label=\"XLY Price\")\n",
    "ax.plot(dates[X2.astype(int)], Y_hat, \"r\", label=\"Log-Linear Fit\")\n",
    "\n",
    "# Formatting\n",
    "ax.set_title(\"XLY Price with Log-Linear Regression Fit\")\n",
    "ax.set_xlabel(\"Date\")\n",
    "ax.set_ylabel(\"Price\")\n",
    "ax.legend()\n",
    "\n",
    "# Auto-handle x-axis ticks/dates\n",
    "fig.autofmt_xdate()\n",
    "plt.show()"
   ]
  },
  {
   "cell_type": "markdown",
   "id": "5804e78f",
   "metadata": {},
   "source": [
    "We use matplotlib to chart both the real ETF price (in blue) and our fitted exponential growth path (in red), plotting them on the same date axis. The chart clearly shows how closely our regression follows the general trend in price over the decade. We label each line and axis, then adjust the dates so the chart is legible. This helps us see at a glance how well our model describes the price movement."
   ]
  },
  {
   "cell_type": "markdown",
   "id": "cfc07e66",
   "metadata": {},
   "source": [
    "<a href=\"https://pyquantnews.com/\">PyQuant News</a> is where finance practitioners level up with Python for quant finance, algorithmic trading, and market data analysis. Looking to get started? Check out the fastest growing, top-selling course to <a href=\"https://gettingstartedwithpythonforquantfinance.com/\">get started with Python for quant finance</a>. For educational purposes. Not investment advice. Use at your own risk."
   ]
  }
 ],
 "metadata": {
  "jupytext": {
   "cell_metadata_filter": "-all",
   "main_language": "python",
   "notebook_metadata_filter": "-all"
  },
  "kernelspec": {
   "display_name": "Python 3 (ipykernel)",
   "language": "python",
   "name": "python3"
  },
  "language_info": {
   "codemirror_mode": {
    "name": "ipython",
    "version": 3
   },
   "file_extension": ".py",
   "mimetype": "text/x-python",
   "name": "python",
   "nbconvert_exporter": "python",
   "pygments_lexer": "ipython3",
   "version": "3.10.13"
  }
 },
 "nbformat": 4,
 "nbformat_minor": 5
}
